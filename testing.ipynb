{
 "cells": [
  {
   "cell_type": "markdown",
   "id": "7f7e6e3c",
   "metadata": {},
   "source": [
    "Check Internet Speed using Python"
   ]
  },
  {
   "cell_type": "code",
   "execution_count": 2,
   "id": "79ddd3f9",
   "metadata": {},
   "outputs": [
    {
     "name": "stdout",
     "output_type": "stream",
     "text": [
      "Collecting speedtest-cli\n",
      "  Downloading speedtest_cli-2.1.3-py2.py3-none-any.whl (23 kB)\n",
      "Installing collected packages: speedtest-cli\n",
      "Successfully installed speedtest-cli-2.1.3\n",
      "Note: you may need to restart the kernel to use updated packages.\n"
     ]
    }
   ],
   "source": [
    "pip install speedtest-cli"
   ]
  },
  {
   "cell_type": "code",
   "execution_count": 3,
   "id": "2c1d75ff",
   "metadata": {},
   "outputs": [],
   "source": [
    "import speedtest as st"
   ]
  },
  {
   "cell_type": "code",
   "execution_count": 5,
   "id": "e23c1572",
   "metadata": {},
   "outputs": [
    {
     "name": "stdout",
     "output_type": "stream",
     "text": [
      "Download Speed in Mbps: 17.64\n",
      "Upload speed in Mbps: 4.99\n",
      "ping: 150.215\n"
     ]
    }
   ],
   "source": [
    "def speed_Test():\n",
    "    test=st.Speedtest()\n",
    "    down_speed=test.download()\n",
    "    down_speed=round(down_speed/10**6,2)\n",
    "    print('Download Speed in Mbps:',down_speed)\n",
    "    \n",
    "    up_speed=test.upload()\n",
    "    up_speed=round(up_speed/10**6,2)\n",
    "    print('Upload speed in Mbps:',up_speed)\n",
    "    \n",
    "    ping=test.results.ping\n",
    "    print('ping:',ping)\n",
    "\n",
    "speed_Test()"
   ]
  },
  {
   "cell_type": "code",
   "execution_count": null,
   "id": "0da70195",
   "metadata": {},
   "outputs": [],
   "source": []
  },
  {
   "cell_type": "code",
   "execution_count": null,
   "id": "6caebc40",
   "metadata": {},
   "outputs": [],
   "source": []
  },
  {
   "cell_type": "code",
   "execution_count": null,
   "id": "904dc723",
   "metadata": {},
   "outputs": [],
   "source": []
  }
 ],
 "metadata": {
  "kernelspec": {
   "display_name": "Python 3 (ipykernel)",
   "language": "python",
   "name": "python3"
  },
  "language_info": {
   "codemirror_mode": {
    "name": "ipython",
    "version": 3
   },
   "file_extension": ".py",
   "mimetype": "text/x-python",
   "name": "python",
   "nbconvert_exporter": "python",
   "pygments_lexer": "ipython3",
   "version": "3.10.9"
  }
 },
 "nbformat": 4,
 "nbformat_minor": 5
}
